{
  "cells": [
    {
      "cell_type": "markdown",
      "metadata": {
        "id": "iNd5e51bZPC-"
      },
      "source": [
        "1. Implement Linear Regression and calculate sum of residual error on the following  Datasets.  \n",
        " x = [0, 1, 2, 3, 4, 5, 6, 7, 8, 9]  \n",
        " y = [1, 3, 2, 5, 7, 8, 8, 9, 10, 12]  \n",
        "\n",
        "*    Compute the regression coefficients using analytic formulation and calculate Sum  Squared Error (SSE) and R2 value.\n",
        "*   Implement gradient descent (both Full-batch and Stochastic with stopping  criteria) on Least Mean Square loss formulation to compute the coefficients of  regression matrix and compare the results using performance measures such as R2 SSE etc.\n",
        "\n"
      ]
    },
    {
      "cell_type": "code",
      "execution_count": 21,
      "metadata": {
        "id": "tmt-GPaHZFyw"
      },
      "outputs": [],
      "source": [
        "import numpy as np\n",
        "import matplotlib.pyplot as plt\n"
      ]
    },
    {
      "cell_type": "code",
      "execution_count": 22,
      "metadata": {
        "id": "IrVF6bsJaeL3"
      },
      "outputs": [],
      "source": [
        "x= np.array([0,1,2,3,4,5,6,7,8,9])\n",
        "y = np.array([1,3,2,5,7,8,8,9,10,12])\n",
        "\n",
        "n = np.size(x)\n",
        "\n",
        "one = np.ones(n)\n",
        "X = np.array([one, x,np.square(x)])\n",
        "X_T=np.transpose(X)\n",
        "Y_T=np.transpose(y)\n",
        "\n",
        "X_X_T = X.dot(X_T)\n",
        "X_Y_T = X.dot(Y_T)\n",
        "\n",
        "X_X_T_Inv = np.linalg.inv(X_X_T)\n",
        "\n",
        "beta = X_X_T_Inv.dot(X_Y_T)\n"
      ]
    },
    {
      "cell_type": "code",
      "execution_count": 23,
      "metadata": {
        "id": "cOQn52vbcXWl"
      },
      "outputs": [],
      "source": [
        "def plot_regression_line(x,y,b):\n",
        "  plt.scatter(x,y,color =\"m\", marker = \"o\", s=40)\n",
        "  y_pred = b[0]+ b[1]*x + b[2]*x**2\n",
        "  plt.plot(x,y_pred,color =\"g\")\n",
        "\n",
        "  plt.xlabel('x')\n",
        "  plt.ylabel('y')\n",
        "  plt.show()\n"
      ]
    },
    {
      "cell_type": "code",
      "execution_count": 24,
      "metadata": {
        "colab": {
          "base_uri": "https://localhost:8080/",
          "height": 279
        },
        "id": "rmwnLcasdR4J",
        "outputId": "150291b0-0fe2-4fac-f395-998ee6a95748"
      },
      "outputs": [
        {
          "data": {
            "image/png": "[encoded data removed]",
            "text/plain": [
              "<Figure size 640x480 with 1 Axes>"
            ]
          },
          "metadata": {},
          "output_type": "display_data"
        }
      ],
      "source": [
        "plot_regression_line(x,y,beta)"
      ]
    },
    {
      "cell_type": "code",
      "execution_count": 25,
      "metadata": {
        "id": "Qk6OkZjOoH7n"
      },
      "outputs": [],
      "source": [
        "def estimated_coeff(x,y):\n",
        "  beta1=0\n",
        "  beta0=0\n",
        "  alpha=0.001\n",
        "  n=np.size(x)\n",
        "  y_expected=np.zeros(n)\n",
        "  b=[0,0]\n",
        "  #squared_error = 10\n",
        "  for j in range(10000):\n",
        "    for i in range(n):\n",
        "      y_expected[i] = beta0+beta1*x[i]\n",
        "      beta0 = beta0 + alpha*(y[i]-y_expected[i])*1\n",
        "      beta1 = beta1 + alpha*(y[i]-y_expected[i])*x[i]\n",
        "      b[0] = beta0\n",
        "      b[1] = beta1\n",
        "    #plot_regression_line(x,y,b)\n",
        "    #error = y-y_expected\n",
        "    #squared_error = np.sum((error**2))*(1/n)\n",
        "  #print(squared_error)\n",
        "\n",
        "  return (beta0,beta1)"
      ]
    },
    {
      "cell_type": "code",
      "execution_count": 26,
      "metadata": {
        "colab": {
          "base_uri": "https://localhost:8080/"
        },
        "id": "TrsPM1FQqOlZ",
        "outputId": "6e506d42-3c99-4f08-91e9-7c52deb1f3a4"
      },
      "outputs": [
        {
          "name": "stdout",
          "output_type": "stream",
          "text": [
            "-7.024980536416438 6.013119975656776\n"
          ]
        }
      ],
      "source": [
        "x= [1,2,3,4,5]\n",
        "y= [1,4,9,16,25]\n",
        "\n",
        "b0, b1 = estimated_coeff(x,y)\n",
        "\n",
        "print(b0,b1)"
      ]
    },
    {
      "cell_type": "code",
      "execution_count": 27,
      "metadata": {
        "id": "VyayB61TsGEF"
      },
      "outputs": [],
      "source": [
        "def estimated_coef(x,y):\n",
        "  n=np.size(x)\n",
        "  m_x,m_y = np.mean(x), np.mean(y)\n",
        "\n",
        "  SS_xy = np.sum(y*x) - n*m_y*m_x\n",
        "  SS_xx = np.sum(x*x) - n*m_x*m_x\n",
        "\n",
        "  b1 = SS_xy/SS_xx\n",
        "  b0 = m_y - b1*m_x\n",
        "\n",
        "  return (b0,b1)"
      ]
    },
    {
      "cell_type": "code",
      "execution_count": 28,
      "metadata": {
        "id": "2cWz8jq6uFIB"
      },
      "outputs": [],
      "source": [
        "def plot_regression_line(x,y,b):\n",
        "  y_pred=b[0]+b[1]*x\n",
        "  plt.plot(x,y_pred, color=\"g\")\n",
        "  plt.xlabel('x')\n",
        "  plt.ylabel('y')\n",
        "  plt.show()"
      ]
    },
    {
      "cell_type": "code",
      "execution_count": 29,
      "metadata": {
        "colab": {
          "base_uri": "https://localhost:8080/",
          "height": 296
        },
        "id": "el6bLcQas9iG",
        "outputId": "9d2ef76b-501e-40ed-d48a-db13a4bee31f"
      },
      "outputs": [
        {
          "data": {
            "image/png": "[encoded data removed]",
            "text/plain": [
              "<Figure size 640x480 with 1 Axes>"
            ]
          },
          "metadata": {},
          "output_type": "display_data"
        },
        {
          "name": "stdout",
          "output_type": "stream",
          "text": [
            "-7.0 6.0\n"
          ]
        }
      ],
      "source": [
        "x= np.array([1,2,3,4,5])\n",
        "y= np.array([1,4,9,16,25])\n",
        "\n",
        "b0, b1 = estimated_coef(x,y)\n",
        "\n",
        "b = [b0,b1]\n",
        "\n",
        "plot_regression_line(x,y,b)\n",
        "\n",
        "print(b0,b1)"
      ]
    },
    {
      "cell_type": "code",
      "execution_count": 30,
      "metadata": {
        "id": "v2fnK42uwf5m"
      },
      "outputs": [],
      "source": [
        "def estimated_coeff1(x,y):\n",
        "  beta1=0\n",
        "  beta0=0\n",
        "  alpha=0.001\n",
        "  n=np.size(x)\n",
        "  y_expected=np.zeros(n)\n",
        "  b=[0,0]\n",
        "  squared_error = 1.5\n",
        "  while(squared_error>1):\n",
        "    for i in range(n):\n",
        "      y_expected[i] = beta0+beta1*x[i]\n",
        "      beta0 = beta0 + alpha*(y[i]-y_expected[i])*1\n",
        "      beta1 = beta1 + alpha*(y[i]-y_expected[i])*x[i]\n",
        "      b[0] = beta0\n",
        "      b[1] = beta1\n",
        "    #plot_regression_line(x,y,b)\n",
        "    error = y-y_expected\n",
        "    squared_error = np.sum((error**2))*(1/n)\n",
        "  print(squared_error)\n",
        "\n",
        "  return (beta0,beta1)"
      ]
    },
    {
      "cell_type": "markdown",
      "metadata": {
        "id": "yti7tG0jd2K5"
      },
      "source": [
        "2. Download Boston Housing Rate Dataset. Analyse the input attributes and find out the  attribute that best follow the linear relationship with the output price. Implement both the  analytic formulation and gradient descent (Full-batch, stochastic) on LMS loss  formulation to compute the coefficients of regression matrix and compare the results.  "
      ]
    },
    {
      "cell_type": "code",
      "execution_count": 31,
      "metadata": {
        "id": "JFcT1_2Pelbg"
      },
      "outputs": [],
      "source": [
        "import pandas as pd\n",
        "import seaborn as sns"
      ]
    },
    {
      "cell_type": "code",
      "execution_count": 32,
      "metadata": {
        "id": "-txspw8cd_Qi"
      },
      "outputs": [],
      "source": [
        "import pandas as pd\n",
        "\n",
        "boston_data = pd.read_csv('BostonHousing.csv')\n",
        "\n",
        "\n"
      ]
    },
    {
      "cell_type": "code",
      "execution_count": 33,
      "metadata": {
        "id": "jZSPBDuDeyTd"
      },
      "outputs": [],
      "source": [
        "X = boston_data.drop(columns=[\"medv\"]) \n",
        "y = boston_data[\"medv\"] \n"
      ]
    },
    {
      "cell_type": "code",
      "execution_count": 34,
      "metadata": {
        "id": "_tlMf1pef1Cl"
      },
      "outputs": [],
      "source": [
        "from sklearn.model_selection import train_test_split\n",
        "X_train, X_test, y_train, y_test = train_test_split(X,y,test_size=0.4,random_state=1)"
      ]
    },
    {
      "cell_type": "code",
      "execution_count": 35,
      "metadata": {
        "id": "RScYMFQDiUsY"
      },
      "outputs": [],
      "source": [
        "import numpy as np\n",
        "correlation_coeffs = np.abs(boston_data.corr()[\"medv\"]).drop(\"medv\")\n",
        "best_feature_name = correlation_coeffs.idxmax()\n"
      ]
    },
    {
      "cell_type": "code",
      "execution_count": 36,
      "metadata": {
        "id": "LknfpVGdhGZs"
      },
      "outputs": [
        {
          "name": "stdout",
          "output_type": "stream",
          "text": [
            "The attribute that best follows the linear relationship with the output price is: lstat\n"
          ]
        }
      ],
      "source": [
        "from sklearn.preprocessing import StandardScaler\n",
        "\n",
        "print(f\"The attribute that best follows the linear relationship with the output price is: {best_feature_name}\")\n",
        "scaler = StandardScaler()\n",
        "X_scaled = scaler.fit_transform(X)\n",
        "X_with_bias = np.c_[np.ones((X_scaled.shape[0], 1)), X_scaled]\n",
        "analytic_solution = np.linalg.inv(X_with_bias.T.dot(X_with_bias)).dot(X_with_bias.T).dot(y)\n"
      ]
    },
    {
      "cell_type": "code",
      "execution_count": 37,
      "metadata": {
        "id": "5Sy4q5h4sl3m"
      },
      "outputs": [
        {
          "name": "stdout",
          "output_type": "stream",
          "text": [
            "Analytic solution coefficients: [ 2.25328063e+01 -9.28146064e-01  1.08156863e+00  1.40899997e-01\n",
            "  6.81739725e-01 -2.05671827e+00  2.67423017e+00  1.94660717e-02\n",
            " -3.10404426e+00  2.66221764e+00 -2.07678168e+00 -2.06060666e+00\n",
            "  8.49268418e-01 -3.74362713e+00]\n"
          ]
        }
      ],
      "source": [
        "print(\"Analytic solution coefficients:\", analytic_solution)\n",
        "class LinearRegressionGradientDescent:\n",
        "    def _init_(self, lr=0.0001, max_iter=10000, tolerance=1e-6):\n",
        "        self.lr = lr\n",
        "        self.max_iter = max_iter\n",
        "        self.tolerance = tolerance\n"
      ]
    },
    {
      "cell_type": "code",
      "execution_count": 38,
      "metadata": {
        "id": "nLCoFjvcsrb1"
      },
      "outputs": [],
      "source": [
        "    def fit(self, X, y):\n",
        "        X_with_bias = np.c_[np.ones((X.shape[0], 1)), X]\n",
        "        self.weights = np.zeros(X_with_bias.shape[1])\n",
        "        for _ in range(self.max_iter):\n",
        "            gradients = -2 * X_with_bias.T.dot(y - X_with_bias.dot(self.weights))\n",
        "            if np.all(np.abs(gradients) < self.tolerance):\n",
        "                break\n",
        "            self.weights -= self.lr * gradients\n",
        "\n"
      ]
    },
    {
      "cell_type": "code",
      "execution_count": 39,
      "metadata": {
        "id": "f_wJfKTlq5KN"
      },
      "outputs": [],
      "source": [
        "class LinearRegressionGradientDescent:\n",
        "    def __init__(self, lr=0.0001, max_iter=10000, tolerance=1e-6):\n",
        "        self.lr = lr\n",
        "        self.max_iter = max_iter\n",
        "        self.tolerance = tolerance\n",
        "\n",
        "    def fit(self, X, y):\n",
        "        X_with_bias = np.c_[np.ones((X.shape[0], 1)), X]\n",
        "        self.weights = np.zeros(X_with_bias.shape[1])\n",
        "        for _ in range(self.max_iter):\n",
        "            gradients = -2 * X_with_bias.T.dot(y - X_with_bias.dot(self.weights))\n",
        "            if np.all(np.abs(gradients) < self.tolerance):\n",
        "                break\n",
        "            self.weights -= self.lr * gradients\n",
        "\n",
        "    def predict(self, X):\n",
        "        X_with_bias = np.c_[np.ones((X.shape[0], 1)), X]\n",
        "        return X_with_bias.dot(self.weights)\n",
        "\n",
        "lr_full_batch_scaled = LinearRegressionGradientDescent(lr=0.0001, max_iter=10000)\n",
        "lr_full_batch_scaled.fit(X_scaled, y)\n"
      ]
    },
    {
      "cell_type": "code",
      "execution_count": 40,
      "metadata": {},
      "outputs": [
        {
          "name": "stdout",
          "output_type": "stream",
          "text": [
            "Gradient descent (Full-batch) coefficients (scaled features): [ 2.25328063e+01 -9.28146063e-01  1.08156863e+00  1.40899992e-01\n",
            "  6.81739726e-01 -2.05671827e+00  2.67423017e+00  1.94660708e-02\n",
            " -3.10404426e+00  2.66221763e+00 -2.07678167e+00 -2.06060666e+00\n",
            "  8.49268418e-01 -3.74362713e+00]\n"
          ]
        }
      ],
      "source": [
        "\n",
        "print(\"Gradient descent (Full-batch) coefficients (scaled features):\", lr_full_batch_scaled.weights)\n",
        "class LinearRegressionStochasticGradientDescent:\n",
        "    def _init_(self, lr=0.0001, max_iter=1000, tolerance=1e-6, batch_size=1):\n",
        "        self.lr = lr\n",
        "        self.max_iter = max_iter\n",
        "        self.tolerance = tolerance\n",
        "        self.batch_size = batch_size\n",
        "    def fit(self, X, y):\n",
        "        X_with_bias = np.c_[np.ones((X.shape[0], 1)), X]\n",
        "        self.weights = np.zeros(X_with_bias.shape[1])\n",
        "\n",
        "        for _ in range(self.max_iter):\n",
        "            indices = np.random.permutation(X_with_bias.shape[0])\n",
        "            for start_idx in range(0, X_with_bias.shape[0], self.batch_size):\n",
        "                batch_indices = indices[start_idx:start_idx + self.batch_size]\n",
        "                X_batch = X_with_bias[batch_indices]\n",
        "                y_batch = y[batch_indices]\n",
        "                gradients = -2 * X_batch.T.dot(y_batch - X_batch.dot(self.weights))\n",
        "                if np.all(np.abs(gradients) < self.tolerance):\n",
        "                    break\n",
        "                self.weights -= self.lr * gradients\n"
      ]
    },
    {
      "cell_type": "code",
      "execution_count": 41,
      "metadata": {},
      "outputs": [],
      "source": [
        "class LinearRegressionStochasticGradientDescent:\n",
        "    def __init__(self, lr=0.0001, max_iter=1000, tolerance=1e-6, batch_size=1):\n",
        "        self.lr = lr\n",
        "        self.max_iter = max_iter\n",
        "        self.tolerance = tolerance\n",
        "        self.batch_size = batch_size\n",
        "\n",
        "    def fit(self, X, y):\n",
        "        X_with_bias = np.c_[np.ones((X.shape[0], 1)), X]\n",
        "        self.weights = np.zeros(X_with_bias.shape[1])\n",
        "\n",
        "        for _ in range(self.max_iter):\n",
        "            indices = np.random.permutation(X_with_bias.shape[0])\n",
        "            for start_idx in range(0, X_with_bias.shape[0], self.batch_size):\n",
        "                batch_indices = indices[start_idx:start_idx + self.batch_size]\n",
        "                X_batch = X_with_bias[batch_indices]\n",
        "                y_batch = y[batch_indices]\n",
        "                gradients = -2 * X_batch.T.dot(y_batch - X_batch.dot(self.weights))\n",
        "                if np.all(np.abs(gradients) < self.tolerance):\n",
        "                    break\n",
        "                self.weights -= self.lr * gradients\n",
        "\n",
        "lr_stochastic_scaled = LinearRegressionStochasticGradientDescent(lr=0.0001, max_iter=10000, batch_size=1)\n",
        "lr_stochastic_scaled.fit(X_scaled, y)\n",
        "print(\"Gradient descent (Stochastic) coefficients (scaled features):\", lr_stochastic_scaled.weights)"
      ]
    }
  ],
  "metadata": {
    "colab": {
      "provenance": []
    },
    "kernelspec": {
      "display_name": "Python 3",
      "name": "python3"
    },
    "language_info": {
      "codemirror_mode": {
        "name": "ipython",
        "version": 3
      },
      "file_extension": ".py",
      "mimetype": "text/x-python",
      "name": "python",
      "nbconvert_exporter": "python",
      "pygments_lexer": "ipython3",
      "version": "3.11.0"
    }
  },
  "nbformat": 4,
  "nbformat_minor": 0
}
