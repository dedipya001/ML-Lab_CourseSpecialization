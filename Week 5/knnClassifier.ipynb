{
 "cells": [
  {
   "cell_type": "code",
   "execution_count": 1,
   "metadata": {},
   "outputs": [],
   "source": [
    "import numpy as np"
   ]
  },
  {
   "cell_type": "code",
   "execution_count": 2,
   "metadata": {},
   "outputs": [],
   "source": [
    "# Step 1: Define a function to calculate the Euclidean distance between two points\n",
    "def euclidean_distance(x1, x2):\n",
    "    return np.sqrt(np.sum((x1 - x2) ** 2))"
   ]
  },
  {
   "cell_type": "code",
   "execution_count": 3,
   "metadata": {},
   "outputs": [],
   "source": [
    "# Step 2: Implement the K-NN classifier\n",
    "def knn(X_train, y_train, X_test, k=3):\n",
    "    predictions = []\n",
    "    for test_point in X_test:\n",
    "        distances = [euclidean_distance(test_point, train_point) for train_point in X_train]\n",
    "        # Sort distances and return indices of k nearest neighbors\n",
    "        nearest_indices = np.argsort(distances)[:k]\n",
    "        # Get the labels of k nearest neighbors\n",
    "        nearest_labels = [y_train[i] for i in nearest_indices]\n",
    "        # Predict the label by majority vote\n",
    "        predicted_label = max(set(nearest_labels), key=nearest_labels.count)\n",
    "        predictions.append(predicted_label)\n",
    "    return predictions"
   ]
  },
  {
   "cell_type": "code",
   "execution_count": 4,
   "metadata": {},
   "outputs": [],
   "source": [
    "# Step 3: Define a function to calculate accuracy and confusion matrix\n",
    "def evaluate(y_true, y_pred):\n",
    "    confusion_matrix = np.zeros((len(np.unique(y_true)), len(np.unique(y_true))))\n",
    "    for yt, yp in zip(y_true, y_pred):\n",
    "        confusion_matrix[yt][yp] += 1\n",
    "    accuracy = np.sum([confusion_matrix[i][i] for i in range(len(confusion_matrix))]) / len(y_true)\n",
    "    return accuracy, confusion_matrix"
   ]
  },
  {
   "cell_type": "code",
   "execution_count": 5,
   "metadata": {},
   "outputs": [],
   "source": [
    "# Step 4: Define a function to split the dataset into train and test sets\n",
    "def train_test_split(X, y, test_size=0.2):\n",
    "    assert len(X) == len(y), \"X and y should have the same length\"\n",
    "    size = int(len(X) * (1 - test_size))\n",
    "    indices = np.random.permutation(len(X))\n",
    "    train_indices, test_indices = indices[:size], indices[size:]\n",
    "    X_train, X_test = X[train_indices], X[test_indices]\n",
    "    y_train, y_test = y[train_indices], y[test_indices]\n",
    "    return X_train, X_test, y_train, y_test"
   ]
  },
  {
   "cell_type": "code",
   "execution_count": 7,
   "metadata": {},
   "outputs": [],
   "source": [
    "# Step 5: Load your dataset and split it into train and test sets\n",
    "\n",
    "from sklearn.datasets import load_iris\n",
    "iris = load_iris()\n",
    "X, y = iris.data, iris.target\n",
    "X_train, X_test, y_train, y_test = train_test_split(X, y)"
   ]
  },
  {
   "cell_type": "code",
   "execution_count": 11,
   "metadata": {},
   "outputs": [
    {
     "name": "stdout",
     "output_type": "stream",
     "text": [
      "Accuracy for k=1: 0.93\n",
      "Accuracy for k=2: 0.93\n",
      "Accuracy for k=3: 0.93\n",
      "Accuracy for k=4: 0.93\n",
      "Accuracy for k=5: 0.93\n",
      "Accuracy for k=6: 0.93\n",
      "Accuracy for k=7: 0.90\n",
      "Accuracy for k=8: 0.90\n",
      "Accuracy for k=9: 0.90\n",
      "Accuracy for k=10: 0.90\n"
     ]
    }
   ],
   "source": [
    "# Step 6: Test the K-NN model\n",
    "k_values = [1, 2 , 3 , 4 , 5 , 6 , 7 , 8 , 9 , 10 ]  # Different values of k to test\n",
    "accuracies = []\n",
    "\n",
    "for k in k_values:\n",
    "    y_pred = knn(X_train, y_train, X_test, k)\n",
    "    accuracy, _ = evaluate(y_test, y_pred)\n",
    "    accuracies.append(accuracy)\n",
    "    print(f\"Accuracy for k={k}: {accuracy:.2f}\")"
   ]
  },
  {
   "cell_type": "code",
   "execution_count": 12,
   "metadata": {},
   "outputs": [
    {
     "data": {
      "image/png": "[encoded data removed]",
      "text/plain": [
       "<Figure size 640x480 with 1 Axes>"
      ]
     },
     "metadata": {},
     "output_type": "display_data"
    }
   ],
   "source": [
    "# Step 7: Plot the curve \"k vs accuracy\"\n",
    "import matplotlib.pyplot as plt\n",
    "plt.plot(k_values, accuracies, marker='o')\n",
    "plt.title('k vs Accuracy')\n",
    "plt.xlabel('k')\n",
    "plt.ylabel('Accuracy')\n",
    "plt.show()"
   ]
  },
  {
   "cell_type": "code",
   "execution_count": 13,
   "metadata": {},
   "outputs": [
    {
     "name": "stdout",
     "output_type": "stream",
     "text": [
      "Value of k for maximum accuracy: 1\n"
     ]
    }
   ],
   "source": [
    "# Step 8: Find the value of k for maximum accuracy\n",
    "max_accuracy_k = k_values[np.argmax(accuracies)]\n",
    "print(f\"Value of k for maximum accuracy: {max_accuracy_k}\")"
   ]
  }
 ],
 "metadata": {
  "kernelspec": {
   "display_name": "Python 3",
   "language": "python",
   "name": "python3"
  },
  "language_info": {
   "codemirror_mode": {
    "name": "ipython",
    "version": 3
   },
   "file_extension": ".py",
   "mimetype": "text/x-python",
   "name": "python",
   "nbconvert_exporter": "python",
   "pygments_lexer": "ipython3",
   "version": "3.11.0"
  }
 },
 "nbformat": 4,
 "nbformat_minor": 2
}
