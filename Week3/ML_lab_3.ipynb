{
  "cells": [
    {
      "cell_type": "markdown",
      "metadata": {
        "id": "iNd5e51bZPC-"
      },
      "source": [
        "1. Implement Linear Regression and calculate sum of residual error on the following  Datasets.  \n",
        " x = [0, 1, 2, 3, 4, 5, 6, 7, 8, 9]  \n",
        " y = [1, 3, 2, 5, 7, 8, 8, 9, 10, 12]  \n",
        "\n",
        "*    Compute the regression coefficients using analytic formulation and calculate Sum  Squared Error (SSE) and R2 value.\n",
        "*   Implement gradient descent (both Full-batch and Stochastic with stopping  criteria) on Least Mean Square loss formulation to compute the coefficients of  regression matrix and compare the results using performance measures such as R2 SSE etc.\n",
        "\n"
      ]
    },
    {
      "cell_type": "code",
      "execution_count": null,
      "metadata": {
        "id": "tmt-GPaHZFyw"
      },
      "outputs": [],
      "source": [
        "import numpy as np\n",
        "import matplotlib.pyplot as plt\n"
      ]
    },
    {
      "cell_type": "code",
      "execution_count": null,
      "metadata": {
        "id": "IrVF6bsJaeL3"
      },
      "outputs": [],
      "source": [
        "x= np.array([0,1,2,3,4,5,6,7,8,9])\n",
        "y = np.array([1,3,2,5,7,8,8,9,10,12])\n",
        "\n",
        "n = np.size(x)\n",
        "\n",
        "one = np.ones(n)\n",
        "X = np.array([one, x,np.square(x)])\n",
        "X_T=np.transpose(X)\n",
        "Y_T=np.transpose(y)\n",
        "\n",
        "X_X_T = X.dot(X_T)\n",
        "X_Y_T = X.dot(Y_T)\n",
        "\n",
        "X_X_T_Inv = np.linalg.inv(X_X_T)\n",
        "\n",
        "beta = X_X_T_Inv.dot(X_Y_T)\n"
      ]
    },
    {
      "cell_type": "code",
      "execution_count": null,
      "metadata": {
        "id": "cOQn52vbcXWl"
      },
      "outputs": [],
      "source": [
        "def plot_regression_line(x,y,b):\n",
        "  plt.scatter(x,y,color =\"m\", marker = \"o\", s=40)\n",
        "  y_pred = b[0]+ b[1]*x + b[2]*x**2\n",
        "  plt.plot(x,y_pred,color =\"g\")\n",
        "\n",
        "  plt.xlabel('x')\n",
        "  plt.ylabel('y')\n",
        "  plt.show()\n"
      ]
    },
    {
      "cell_type": "code",
      "execution_count": null,
      "metadata": {
        "colab": {
          "base_uri": "https://localhost:8080/",
          "height": 279
        },
        "id": "rmwnLcasdR4J",
        "outputId": "150291b0-0fe2-4fac-f395-998ee6a95748"
      },
      "outputs": [
        {
          "data": {
            "image/png": "[encoded data removed]",
            "text/plain": [
              "<Figure size 432x288 with 1 Axes>"
            ]
          },
          "metadata": {
            "needs_background": "light"
          },
          "output_type": "display_data"
        }
      ],
      "source": [
        "plot_regression_line(x,y,beta)"
      ]
    },
    {
      "cell_type": "code",
      "execution_count": null,
      "metadata": {
        "id": "Qk6OkZjOoH7n"
      },
      "outputs": [],
      "source": [
        "def estimated_coeff(x,y):\n",
        "  beta1=0\n",
        "  beta0=0\n",
        "  alpha=0.001\n",
        "  n=np.size(x)\n",
        "  y_expected=np.zeros(n)\n",
        "  b=[0,0]\n",
        "  #squared_error = 10\n",
        "  for j in range(10000):\n",
        "    for i in range(n):\n",
        "      y_expected[i] = beta0+beta1*x[i]\n",
        "      beta0 = beta0 + alpha*(y[i]-y_expected[i])*1\n",
        "      beta1 = beta1 + alpha*(y[i]-y_expected[i])*x[i]\n",
        "      b[0] = beta0\n",
        "      b[1] = beta1\n",
        "    #plot_regression_line(x,y,b)\n",
        "    #error = y-y_expected\n",
        "    #squared_error = np.sum((error**2))*(1/n)\n",
        "  #print(squared_error)\n",
        "\n",
        "  return (beta0,beta1)"
      ]
    },
    {
      "cell_type": "code",
      "execution_count": null,
      "metadata": {
        "colab": {
          "base_uri": "https://localhost:8080/"
        },
        "id": "TrsPM1FQqOlZ",
        "outputId": "6e506d42-3c99-4f08-91e9-7c52deb1f3a4"
      },
      "outputs": [
        {
          "name": "stdout",
          "output_type": "stream",
          "text": [
            "-7.024980536416438 6.013119975656776\n"
          ]
        }
      ],
      "source": [
        "x= [1,2,3,4,5]\n",
        "y= [1,4,9,16,25]\n",
        "\n",
        "b0, b1 = estimated_coeff(x,y)\n",
        "\n",
        "print(b0,b1)"
      ]
    },
    {
      "cell_type": "code",
      "execution_count": null,
      "metadata": {
        "id": "VyayB61TsGEF"
      },
      "outputs": [],
      "source": [
        "def estimated_coef(x,y):\n",
        "  n=np.size(x)\n",
        "  m_x,m_y = np.mean(x), np.mean(y)\n",
        "\n",
        "  SS_xy = np.sum(y*x) - n*m_y*m_x\n",
        "  SS_xx = np.sum(x*x) - n*m_x*m_x\n",
        "\n",
        "  b1 = SS_xy/SS_xx\n",
        "  b0 = m_y - b1*m_x\n",
        "\n",
        "  return (b0,b1)"
      ]
    },
    {
      "cell_type": "code",
      "execution_count": null,
      "metadata": {
        "id": "2cWz8jq6uFIB"
      },
      "outputs": [],
      "source": [
        "def plot_regression_line(x,y,b):\n",
        "  y_pred=b[0]+b[1]*x\n",
        "  plt.plot(x,y_pred, color=\"g\")\n",
        "  plt.xlabel('x')\n",
        "  plt.ylabel('y')\n",
        "  plt.show()"
      ]
    },
    {
      "cell_type": "code",
      "execution_count": null,
      "metadata": {
        "colab": {
          "base_uri": "https://localhost:8080/",
          "height": 296
        },
        "id": "el6bLcQas9iG",
        "outputId": "9d2ef76b-501e-40ed-d48a-db13a4bee31f"
      },
      "outputs": [
        {
          "data": {
            "image/png": "[encoded data removed]",
            "text/plain": [
              "<Figure size 432x288 with 1 Axes>"
            ]
          },
          "metadata": {
            "needs_background": "light"
          },
          "output_type": "display_data"
        },
        {
          "name": "stdout",
          "output_type": "stream",
          "text": [
            "-7.0 6.0\n"
          ]
        }
      ],
      "source": [
        "x= np.array([1,2,3,4,5])\n",
        "y= np.array([1,4,9,16,25])\n",
        "\n",
        "b0, b1 = estimated_coef(x,y)\n",
        "\n",
        "b = [b0,b1]\n",
        "\n",
        "plot_regression_line(x,y,b)\n",
        "\n",
        "print(b0,b1)"
      ]
    },
    {
      "cell_type": "code",
      "execution_count": null,
      "metadata": {
        "id": "v2fnK42uwf5m"
      },
      "outputs": [],
      "source": [
        "def estimated_coeff1(x,y):\n",
        "  beta1=0\n",
        "  beta0=0\n",
        "  alpha=0.001\n",
        "  n=np.size(x)\n",
        "  y_expected=np.zeros(n)\n",
        "  b=[0,0]\n",
        "  squared_error = 1.5\n",
        "  while(squared_error>1):\n",
        "    for i in range(n):\n",
        "      y_expected[i] = beta0+beta1*x[i]\n",
        "      beta0 = beta0 + alpha*(y[i]-y_expected[i])*1\n",
        "      beta1 = beta1 + alpha*(y[i]-y_expected[i])*x[i]\n",
        "      b[0] = beta0\n",
        "      b[1] = beta1\n",
        "    #plot_regression_line(x,y,b)\n",
        "    error = y-y_expected\n",
        "    squared_error = np.sum((error**2))*(1/n)\n",
        "  print(squared_error)\n",
        "\n",
        "  return (beta0,beta1)"
      ]
    },
    {
      "cell_type": "markdown",
      "metadata": {
        "id": "yti7tG0jd2K5"
      },
      "source": [
        "2. Download Boston Housing Rate Dataset. Analyse the input attributes and find out the  attribute that best follow the linear relationship with the output price. Implement both the  analytic formulation and gradient descent (Full-batch, stochastic) on LMS loss  formulation to compute the coefficients of regression matrix and compare the results.  "
      ]
    },
    {
      "cell_type": "code",
      "execution_count": null,
      "metadata": {
        "id": "JFcT1_2Pelbg"
      },
      "outputs": [],
      "source": [
        "import pandas as pd\n",
        "import seaborn as sns"
      ]
    },
    {
      "cell_type": "code",
      "execution_count": null,
      "metadata": {
        "id": "-txspw8cd_Qi"
      },
      "outputs": [],
      "source": [
        "from sklearn import datasets\n",
        "boston_data = datasets.load_boston()\n",
        "\n",
        "df = pd.DataFrame(data = boston_data[\"data\"])\n"
      ]
    },
    {
      "cell_type": "code",
      "execution_count": null,
      "metadata": {
        "id": "jZSPBDuDeyTd"
      },
      "outputs": [],
      "source": [
        "from sklearn import datasets, linear_model\n",
        "\n",
        "boston = datasets.load_boston(return_X_y = False)\n",
        "\n",
        "X = boston.data\n",
        "y = boston.target\n",
        "\n"
      ]
    },
    {
      "cell_type": "code",
      "execution_count": null,
      "metadata": {
        "id": "_tlMf1pef1Cl"
      },
      "outputs": [],
      "source": [
        "from sklearn.model_selection import train_test_split\n",
        "X_train, X_test, y_train, y_test = train_test_split(X,y,test_size=0.4,random_state=1)"
      ]
    },
    {
      "cell_type": "code",
      "execution_count": null,
      "metadata": {
        "id": "RScYMFQDiUsY"
      },
      "outputs": [],
      "source": [
        "boston.keys()"
      ]
    },
    {
      "cell_type": "code",
      "execution_count": null,
      "metadata": {
        "id": "LknfpVGdhGZs"
      },
      "outputs": [],
      "source": [
        "correlation_matrix = df.corr().round(2)\n",
        "\n",
        "fig, ax = plt.subplots(figsize=(10,10))\n",
        "sns.heatmap(data=correlation_matrix, annot=True,linewidths=5,ax=ax)"
      ]
    },
    {
      "cell_type": "markdown",
      "metadata": {
        "id": "TjQX9aDpkEWF"
      },
      "source": [
        "Observation: from the above figure we can observe that 0.91 is the max correlation therefor the attrubtes TAX and RAD have the strongest relationship with the output"
      ]
    },
    {
      "cell_type": "code",
      "execution_count": null,
      "metadata": {
        "id": "5Sy4q5h4sl3m"
      },
      "outputs": [],
      "source": [
        "x_array = df[9].to_numpy()"
      ]
    },
    {
      "cell_type": "code",
      "execution_count": null,
      "metadata": {
        "id": "nLCoFjvcsrb1"
      },
      "outputs": [],
      "source": [
        "y_array = np.append(y_train,y_test)\n",
        "print(len(y_array),\"      \",len(x_array))\n"
      ]
    },
    {
      "cell_type": "code",
      "execution_count": null,
      "metadata": {
        "id": "f_wJfKTlq5KN"
      },
      "outputs": [],
      "source": [
        "estimated_coef(x_array,y_array)"
      ]
    }
  ],
  "metadata": {
    "colab": {
      "provenance": []
    },
    "kernelspec": {
      "display_name": "Python 3",
      "name": "python3"
    },
    "language_info": {
      "name": "python"
    }
  },
  "nbformat": 4,
  "nbformat_minor": 0
}
